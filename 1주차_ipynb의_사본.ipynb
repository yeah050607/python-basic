{
  "nbformat": 4,
  "nbformat_minor": 0,
  "metadata": {
    "colab": {
      "provenance": [],
      "include_colab_link": true
    },
    "kernelspec": {
      "name": "python3",
      "display_name": "Python 3"
    },
    "language_info": {
      "name": "python"
    }
  },
  "cells": [
    {
      "cell_type": "markdown",
      "metadata": {
        "id": "view-in-github",
        "colab_type": "text"
      },
      "source": [
        "<a href=\"https://colab.research.google.com/github/yeah050607/python-basic/blob/main/1%EC%A3%BC%EC%B0%A8_ipynb%EC%9D%98_%EC%82%AC%EB%B3%B8.ipynb\" target=\"_parent\"><img src=\"https://colab.research.google.com/assets/colab-badge.svg\" alt=\"Open In Colab\"/></a>"
      ]
    },
    {
      "cell_type": "code",
      "source": [
        "name = \"철수\"\n",
        "age = 12\n",
        "\n",
        "print(\"이름:\", name)\n",
        "# print(\"나이:\", age)\n",
        "print(\"이름:\", name, \"나이:\", age)"
      ],
      "metadata": {
        "id": "zV221efeDZ4g",
        "colab": {
          "base_uri": "https://localhost:8080/"
        },
        "outputId": "d3809bee-b1f6-465b-81b5-e69cdfbaf9e1"
      },
      "execution_count": null,
      "outputs": [
        {
          "output_type": "stream",
          "name": "stdout",
          "text": [
            "이름: 철수\n",
            "이름: 철수 나이: 12\n"
          ]
        }
      ]
    },
    {
      "cell_type": "markdown",
      "source": [
        "- print()는 출력함수임\n",
        "- 주로 결과를 화면에 출력하기 위해, 프로그램 실행 과정을 중간중간 확인하기 위해 사용함\n",
        "- 쉼표(,)를 사용하여 여러 값을 한 번에 출력할 수 있음\n",
        "- 출력 형식을 지정할 수 있음"
      ],
      "metadata": {
        "id": "Q7e7Ale33qDK"
      }
    },
    {
      "cell_type": "markdown",
      "source": [
        "# 셀 나누기: Ctrl + M + -\n",
        "# 셀 합치기: shift로 셀 다중 선택 -> 마우스 우클릭 -> 셀 합치기\n",
        "a=1\n",
        "b=2\n"
      ],
      "metadata": {
        "id": "QRu0nk0c3ADl"
      }
    },
    {
      "cell_type": "markdown",
      "source": [
        "\n",
        "print(\"합:\", a+b)"
      ],
      "metadata": {
        "id": "XXzTgYzA3BC8"
      }
    },
    {
      "cell_type": "markdown",
      "source": [
        "# 셀 나누기: Ctrl + M + -\n",
        "# 셀 합치기: shift로 셀 다중 선택 -> 마우스 우클릭 -> 셀 합치기\n",
        "a=1\n",
        "b=2\n",
        "\n",
        "print(\"합:\", a+b)"
      ],
      "metadata": {
        "id": "lmVGa9QbCj4C"
      }
    },
    {
      "cell_type": "markdown",
      "source": [
        "**(Markdown) 두 수를 곱한 결과를 출력한다**"
      ],
      "metadata": {
        "id": "ocn0Z3qbEW-7"
      }
    },
    {
      "cell_type": "code",
      "source": [
        "# 세미콜론(;)은 여러 명령문을 한 줄에 나란히 쓸 수 있게 하는 구분 기호\n",
        "# x=7을 실행하고 이어서 y=8도 실행하라는 뜻\n",
        "x = 7; y = 8\n",
        "print(x*y)\n",
        "\n",
        "x=7\n",
        "y=8"
      ],
      "metadata": {
        "colab": {
          "base_uri": "https://localhost:8080/"
        },
        "id": "SRIodhbsEcLD",
        "outputId": "65e0cbe2-ebe5-460c-a6a1-9279f9e2e04d"
      },
      "execution_count": null,
      "outputs": [
        {
          "output_type": "stream",
          "name": "stdout",
          "text": [
            "56\n"
          ]
        }
      ]
    },
    {
      "cell_type": "code",
      "source": [
        "x = 'hi'\n",
        "print(x)\n",
        "\n",
        "print(hi)\n",
        "\n",
        " x = \"7\"\n",
        " print(x)"
      ],
      "metadata": {
        "colab": {
          "base_uri": "https://localhost:8080/"
        },
        "id": "d76JoLAE3Ynk",
        "outputId": "0ee74b25-e377-4462-e6f6-ba8ca7a73fd9"
      },
      "execution_count": null,
      "outputs": [
        {
          "output_type": "stream",
          "name": "stdout",
          "text": [
            "7\n"
          ]
        }
      ]
    },
    {
      "cell_type": "code",
      "source": [
        "print(Hello, world)\n",
        "print(\"Hello, world\")"
      ],
      "metadata": {
        "id": "04Lr-2sMF6rw",
        "outputId": "93d301eb-7090-4ad7-d85a-5e5240a21b7b",
        "colab": {
          "base_uri": "https://localhost:8080/"
        }
      },
      "execution_count": null,
      "outputs": [
        {
          "output_type": "stream",
          "name": "stdout",
          "text": [
            "Hello, world\n"
          ]
        }
      ]
    },
    {
      "cell_type": "code",
      "source": [],
      "metadata": {
        "id": "ZzC1G-Ab3lJm"
      },
      "execution_count": null,
      "outputs": []
    },
    {
      "cell_type": "markdown",
      "source": [],
      "metadata": {
        "id": "h3mPAcSV31tj"
      }
    },
    {
      "cell_type": "code",
      "source": [],
      "metadata": {
        "id": "9Hf3m4c232OM"
      },
      "execution_count": null,
      "outputs": []
    },
    {
      "cell_type": "code",
      "source": [
        "8"
      ],
      "metadata": {
        "colab": {
          "base_uri": "https://localhost:8080/"
        },
        "id": "1ZPOgq6H31h1",
        "outputId": "137400e8-1fda-4b34-c6f8-e8fa9801ecd7"
      },
      "execution_count": null,
      "outputs": [
        {
          "output_type": "execute_result",
          "data": {
            "text/plain": [
              "8"
            ]
          },
          "metadata": {},
          "execution_count": 17
        }
      ]
    },
    {
      "cell_type": "code",
      "source": [
        "0"
      ],
      "metadata": {
        "colab": {
          "base_uri": "https://localhost:8080/"
        },
        "id": "uhccrJ9g33r1",
        "outputId": "d0f48f1d-b7a1-4f1b-e8aa-62b644d1326d"
      },
      "execution_count": null,
      "outputs": [
        {
          "output_type": "execute_result",
          "data": {
            "text/plain": [
              "0"
            ]
          },
          "metadata": {},
          "execution_count": 18
        }
      ]
    },
    {
      "cell_type": "code",
      "source": [],
      "metadata": {
        "id": "A7AEZndD35Em"
      },
      "execution_count": null,
      "outputs": []
    }
  ]
}