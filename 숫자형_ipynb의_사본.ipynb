{
  "nbformat": 4,
  "nbformat_minor": 0,
  "metadata": {
    "colab": {
      "provenance": [],
      "include_colab_link": true
    },
    "kernelspec": {
      "name": "python3",
      "display_name": "Python 3"
    },
    "language_info": {
      "name": "python"
    }
  },
  "cells": [
    {
      "cell_type": "markdown",
      "metadata": {
        "id": "view-in-github",
        "colab_type": "text"
      },
      "source": [
        "<a href=\"https://colab.research.google.com/github/yeah050607/python-basic/blob/main/%EC%88%AB%EC%9E%90%ED%98%95_ipynb%EC%9D%98_%EC%82%AC%EB%B3%B8.ipynb\" target=\"_parent\"><img src=\"https://colab.research.google.com/assets/colab-badge.svg\" alt=\"Open In Colab\"/></a>"
      ]
    },
    {
      "cell_type": "markdown",
      "source": [
        "\n",
        "\n",
        "---\n",
        "\n"
      ],
      "metadata": {
        "id": "7EfQanPfwTQW"
      }
    },
    {
      "cell_type": "code",
      "execution_count": null,
      "metadata": {
        "id": "gRBZBrmusc4S"
      },
      "outputs": [],
      "source": [
        "# int\n",
        "a = 1"
      ]
    },
    {
      "cell_type": "code",
      "source": [
        "a"
      ],
      "metadata": {
        "id": "c2NALATTsf6h"
      },
      "execution_count": null,
      "outputs": []
    },
    {
      "cell_type": "code",
      "source": [
        "print(a)"
      ],
      "metadata": {
        "id": "AFR02o04sgWq"
      },
      "execution_count": null,
      "outputs": []
    },
    {
      "cell_type": "code",
      "source": [
        "type(a)"
      ],
      "metadata": {
        "id": "QBaQZ8Tusg1u"
      },
      "execution_count": null,
      "outputs": []
    },
    {
      "cell_type": "markdown",
      "source": [
        "\n",
        "\n",
        "---\n",
        "\n"
      ],
      "metadata": {
        "id": "94PKW8B-waKQ"
      }
    },
    {
      "cell_type": "code",
      "source": [
        "# Bool\n",
        "type(a) is int"
      ],
      "metadata": {
        "id": "fW7jTzMltfan"
      },
      "execution_count": null,
      "outputs": []
    },
    {
      "cell_type": "code",
      "source": [
        "isinstance(a, int)"
      ],
      "metadata": {
        "id": "sMpH1ccWGE0T"
      },
      "execution_count": null,
      "outputs": []
    },
    {
      "cell_type": "code",
      "source": [
        "# 'is'는 동일 객체 비교연산자\n",
        "type(True) is int"
      ],
      "metadata": {
        "id": "6TxtG2RDGA--"
      },
      "execution_count": null,
      "outputs": []
    },
    {
      "cell_type": "code",
      "source": [
        "# bool은 int의 서브클래스라서 True/False는 1/0처럼 동작\n",
        "# isinstance()는 상속 관계를 포함해 검사하므로 True\n",
        "# 클래스, 상속 개념은 추후 설명\n",
        "isinstance(True, int)"
      ],
      "metadata": {
        "id": "Tux8Q54pGPH5"
      },
      "execution_count": null,
      "outputs": []
    },
    {
      "cell_type": "code",
      "source": [
        "type(True)"
      ],
      "metadata": {
        "id": "yzjbMT-AsiGr"
      },
      "execution_count": null,
      "outputs": []
    },
    {
      "cell_type": "code",
      "source": [
        "True + True"
      ],
      "metadata": {
        "id": "Td5lUubxwJuJ"
      },
      "execution_count": null,
      "outputs": []
    },
    {
      "cell_type": "code",
      "source": [
        "True + False"
      ],
      "metadata": {
        "id": "UrjTjdkiyrwI"
      },
      "execution_count": null,
      "outputs": []
    },
    {
      "cell_type": "markdown",
      "source": [
        "\n",
        "\n",
        "---\n",
        "\n"
      ],
      "metadata": {
        "id": "cyJELFAWwbtK"
      }
    },
    {
      "cell_type": "code",
      "source": [
        "# float\n",
        "b = 3.14\n",
        "print(b)\n",
        "print(type(b))"
      ],
      "metadata": {
        "id": "2N7mKggusi5s"
      },
      "execution_count": null,
      "outputs": []
    },
    {
      "cell_type": "code",
      "source": [
        "isinstance(b, int)"
      ],
      "metadata": {
        "id": "4PdyEPwbssfs"
      },
      "execution_count": null,
      "outputs": []
    },
    {
      "cell_type": "code",
      "source": [
        "isinstance(b, float)"
      ],
      "metadata": {
        "id": "gAgVNeI_sumG"
      },
      "execution_count": null,
      "outputs": []
    },
    {
      "cell_type": "markdown",
      "source": [
        "\n",
        "\n",
        "---\n",
        "\n"
      ],
      "metadata": {
        "id": "AAAcBGQ2wcvB"
      }
    },
    {
      "cell_type": "code",
      "source": [
        "# complex\n",
        "c = 1 + 2j\n",
        "print(type(c))"
      ],
      "metadata": {
        "id": "wg1gBZDgswlT"
      },
      "execution_count": null,
      "outputs": []
    },
    {
      "cell_type": "code",
      "source": [
        "print(isinstance(c, int))\n",
        "print(isinstance(c, float))\n",
        "print(isinstance(c, complex))"
      ],
      "metadata": {
        "id": "PR4OVmn6-8FL"
      },
      "execution_count": null,
      "outputs": []
    },
    {
      "cell_type": "markdown",
      "source": [
        "\n",
        "\n",
        "---\n",
        "\n"
      ],
      "metadata": {
        "id": "w1KX8pGuxR1Q"
      }
    },
    {
      "cell_type": "code",
      "source": [
        "# casting\n",
        "# int는 내장함수로, 입력으로 받은 값을 정수로 변환함 (소수점 버림)\n",
        "print(int(3.14))\n",
        "print(int(5.55))"
      ],
      "metadata": {
        "id": "HFscqEDZtkNY"
      },
      "execution_count": null,
      "outputs": []
    },
    {
      "cell_type": "code",
      "source": [
        "int(3.7)\n",
        "int(\"1\")\n",
        "int(True)\n",
        "\n",
        "float(10)\n",
        "float(\"3.14\")\n",
        "float(False)\n",
        "\n",
        "complex(5)\n",
        "\n",
        "str(3.14)\n",
        "str(True)"
      ],
      "metadata": {
        "id": "HT31vXiHxWo5"
      },
      "execution_count": null,
      "outputs": []
    },
    {
      "cell_type": "markdown",
      "source": [
        "\n",
        "\n",
        "---\n",
        "\n"
      ],
      "metadata": {
        "id": "BQVx7GJDyIbO"
      }
    },
    {
      "cell_type": "code",
      "source": [
        "# 연산\n",
        "# 덧셈 (+), 뺄셈 (-), 곱셈 (*), 거듭제곱 (**), 나눗셈 (/), 나눗셈 - 몫 (//), 나눗셈 - 나머지 (\\%)\n",
        "\n",
        "1+2"
      ],
      "metadata": {
        "id": "TK2vG50zyJZV"
      },
      "execution_count": null,
      "outputs": []
    },
    {
      "cell_type": "code",
      "source": [
        "1-2"
      ],
      "metadata": {
        "id": "NEt90Omr1clY"
      },
      "execution_count": null,
      "outputs": []
    },
    {
      "cell_type": "code",
      "source": [
        "2*3"
      ],
      "metadata": {
        "id": "f-jiQb5h1ci1"
      },
      "execution_count": null,
      "outputs": []
    },
    {
      "cell_type": "code",
      "source": [
        "2**3"
      ],
      "metadata": {
        "id": "aycbowez1cgV"
      },
      "execution_count": null,
      "outputs": []
    },
    {
      "cell_type": "code",
      "source": [
        "# 파이썬에서 거듭제곱은 우결합\n",
        "2 ** 3 ** 2"
      ],
      "metadata": {
        "id": "4XKjObaeEjH9"
      },
      "execution_count": null,
      "outputs": []
    },
    {
      "cell_type": "code",
      "source": [
        "4/2"
      ],
      "metadata": {
        "id": "Ro53FmIq1cdq"
      },
      "execution_count": null,
      "outputs": []
    },
    {
      "cell_type": "code",
      "source": [
        "4//2"
      ],
      "metadata": {
        "id": "LEdCvUYx1caf"
      },
      "execution_count": null,
      "outputs": []
    },
    {
      "cell_type": "code",
      "source": [
        "4%2"
      ],
      "metadata": {
        "id": "u9TtSK5-1cUK"
      },
      "execution_count": null,
      "outputs": []
    },
    {
      "cell_type": "code",
      "source": [
        "5/3"
      ],
      "metadata": {
        "id": "SjD3NNni1jz-"
      },
      "execution_count": null,
      "outputs": []
    },
    {
      "cell_type": "code",
      "source": [
        "5//3"
      ],
      "metadata": {
        "id": "4YdX2Ovz1mgO"
      },
      "execution_count": null,
      "outputs": []
    },
    {
      "cell_type": "code",
      "source": [
        "5%3"
      ],
      "metadata": {
        "id": "dWUk5vBc1oCq"
      },
      "execution_count": null,
      "outputs": []
    },
    {
      "cell_type": "code",
      "source": [
        "divmod(5,3)"
      ],
      "metadata": {
        "id": "4bF8UQ_l1s1W"
      },
      "execution_count": null,
      "outputs": []
    },
    {
      "cell_type": "code",
      "source": [
        "pow(2, 5)"
      ],
      "metadata": {
        "id": "GvJnMA_x2SIN"
      },
      "execution_count": null,
      "outputs": []
    },
    {
      "cell_type": "code",
      "source": [
        "print(abs(-3))\n",
        "print(round(2.5))\n",
        "print(int(2.5))"
      ],
      "metadata": {
        "id": "RrgKnvJE2Trg"
      },
      "execution_count": null,
      "outputs": []
    },
    {
      "cell_type": "code",
      "source": [
        "# += 는 a에 1을 더하고, 그 값을 a로 저장하는 것을 의미함\n",
        "# 이를 복합 연산자라고 함\n",
        "# 복합 연산자에는 +=, -=, *=, /=, //=, %=, **=가 있음\n",
        "a = 1\n",
        "a += 1\n",
        "print(a)"
      ],
      "metadata": {
        "id": "PT5OYn1-s8X8"
      },
      "execution_count": null,
      "outputs": []
    },
    {
      "cell_type": "markdown",
      "source": [
        "\n",
        "\n",
        "---\n",
        "\n"
      ],
      "metadata": {
        "id": "2mKR_xeBzvSl"
      }
    },
    {
      "cell_type": "markdown",
      "source": [
        "**과제** \\\n",
        "**1. 0.1 + 0.2 == 0.3이 False인 이유에 대해 설명하시오.** \\\n",
        "**2. 1 + 2 == 3이 True인 이유에 대해 설명하시오.**"
      ],
      "metadata": {
        "id": "RNsxhvFazi_x"
      }
    },
    {
      "cell_type": "code",
      "source": [
        "0.1 + 0.2 == 0.3"
      ],
      "metadata": {
        "id": "hhMhzdXGyLI5"
      },
      "execution_count": null,
      "outputs": []
    },
    {
      "cell_type": "code",
      "source": [
        "1 + 2 == 3"
      ],
      "metadata": {
        "id": "zaVa0jPFD9n-"
      },
      "execution_count": null,
      "outputs": []
    }
  ]
}